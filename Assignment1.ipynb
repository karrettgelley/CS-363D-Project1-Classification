{
 "cells": [
  {
   "cell_type": "markdown",
   "metadata": {},
   "source": [
    "#### This assignment may be worked individually or in pairs. Enter your name/names here:\n",
    "    "
   ]
  },
  {
   "cell_type": "code",
   "execution_count": 2,
   "metadata": {},
   "outputs": [],
   "source": [
    "#names here\n",
    "# Garrett Kelley"
   ]
  },
  {
   "cell_type": "markdown",
   "metadata": {
    "collapsed": true
   },
   "source": [
    "# Assignment 1: Decision Trees\n",
    "\n",
    "In this assignment we'll implement the Decision Tree algorithm to classify patients as either having or not having diabetic retinopathy. For this task we'll be using the Diabetic Retinopathy data set, which contains features from the Messidor image set to predict whether an image contains signs of diabetic retinopathy or not. This dataset has `1151` instances and `20` attributes (some categorical, some continuous). You can find additional details about the dataset [here](http://archive.ics.uci.edu/ml/datasets/Diabetic+Retinopathy+Debrecen+Data+Set)."
   ]
  },
  {
   "cell_type": "markdown",
   "metadata": {},
   "source": [
    "Attribute Information:\n",
    "\n",
    "0) The binary result of quality assessment. 0 = bad quality 1 = sufficient quality.\n",
    "\n",
    "1) The binary result of pre-screening, where 1 indicates severe retinal abnormality and 0 its lack. \n",
    "\n",
    "2-7) The results of MA detection. Each feature value stand for the number of MAs found at the confidence levels alpha = 0.5, . . . , 1, respectively. \n",
    "\n",
    "8-15) contain the same information as 2-7) for exudates. However, as exudates are represented by a set of points rather than the number of pixels constructing the lesions, these features are normalized by dividing the \n",
    "number of lesions with the diameter of the ROI to compensate different image sizes. \n",
    "\n",
    "16) The euclidean distance of the center of the macula and the center of the optic disc to provide important information regarding the patient's condition. This feature is also normalized with the diameter of the ROI.\n",
    "\n",
    "17) The diameter of the optic disc. \n",
    "\n",
    "18) The binary result of the AM/FM-based classification.\n",
    "\n",
    "19) Class label. 1 = contains signs of Diabetic Retinopathy (Accumulative label for the Messidor classes 1, 2, 3), 0 = no signs of Diabetic Retinopathy.\n",
    "\n",
    "\n",
    "A few function prototypes are already given to you, please don't change those. You can add additional helper functions for your convenience. *Suggestion:* The dataset is substantially big, for the purpose of easy debugging work with a subset of the data and test your decision tree implementation on that."
   ]
  },
  {
   "cell_type": "markdown",
   "metadata": {},
   "source": [
    "#### Implementation: \n",
    "A few function prototypes are already given to you, please don't change those. You can add additional helper functions for your convenience. \n",
    "\n",
    "*Suggestion:* The dataset is substantially big, for the purpose of easy debugging, work with a subset of the data and test your decision tree implementation on that.\n",
    "\n",
    "#### Notes:\n",
    "Parts of this assignment will be **autograded** so a couple of caveats :-\n",
    "- Entropy is calculated using log with base 2, `math.log2(x)`.\n",
    "- For continuous features ensure that the threshold value lies exactly between 2 buckets. For example, if for feature 2 the best split occurs between 10 and 15 then the threshold value will be set as 12.5.\n",
    "- For binary features [0/1] the threshold value will be 0.5. All values < `thresh_val` go to the left child and all values >= `thresh_val` go to the right child."
   ]
  },
  {
   "cell_type": "code",
   "execution_count": 1,
   "metadata": {},
   "outputs": [],
   "source": [
    "# Standard Headers\n",
    "# You are welcome to add additional headers if you wish\n",
    "# EXCEPT for scikit-learn... You may NOT use scikit-learn for this assignment!\n",
    "import pandas as pd\n",
    "import numpy as np\n",
    "import matplotlib.pyplot as plt\n",
    "from math import log2\n",
    "from math import floor\n",
    "from random import shuffle"
   ]
  },
  {
   "cell_type": "code",
   "execution_count": 2,
   "metadata": {},
   "outputs": [],
   "source": [
    "class DataPoint:\n",
    "    def __str__(self):\n",
    "        return \"< \" + str(self.label) + \": \" + str(self.features) + \" >\"\n",
    "    def __init__(self, label, features):\n",
    "        self.label = label # the classification label of this data point\n",
    "        self.features = features"
   ]
  },
  {
   "cell_type": "markdown",
   "metadata": {},
   "source": [
    "Q1. Read data from a CSV file. Put it into a list of `DataPoints`."
   ]
  },
  {
   "cell_type": "code",
   "execution_count": 3,
   "metadata": {},
   "outputs": [],
   "source": [
    "def get_data(filename):\n",
    "    data = []\n",
    "    csv_data = pd.read_csv(filename, header=None).to_numpy()\n",
    "    for row in csv_data:\n",
    "        data.append(DataPoint(row[19], row[0:18]))\n",
    "        \n",
    "    return data"
   ]
  },
  {
   "cell_type": "code",
   "execution_count": 4,
   "metadata": {},
   "outputs": [],
   "source": [
    "class TreeNode:\n",
    "    is_leaf = True          # boolean variable to check if the node is a leaf\n",
    "    feature_idx = None      # index that identifies the feature\n",
    "    thresh_val = None       # threshold value that splits the node\n",
    "    prediction = None       # prediction class (only valid for leaf nodes)\n",
    "    left_child = None       # left TreeNode (all values < thresh_val)\n",
    "    right_child = None      # right TreeNode (all values >= thresh_val)\n",
    "    \n",
    "    def printTree(self):    # for debugging purposes\n",
    "        if self.is_leaf:\n",
    "            print ('Leaf Node:      predicts ' + str(self.prediction))\n",
    "        else:\n",
    "            print ('Internal Node:  splits on feature ' \n",
    "                   + str(self.feature_idx) + ' with threshold ' + str(self.thresh_val))\n",
    "            self.left_child.printTree()\n",
    "            self.right_child.printTree()"
   ]
  },
  {
   "cell_type": "markdown",
   "metadata": {},
   "source": [
    "Q2. Implement the function `make_prediction` that takes the decision tree root and a `DataPoint` instance and returns the prediction label."
   ]
  },
  {
   "cell_type": "code",
   "execution_count": 5,
   "metadata": {},
   "outputs": [],
   "source": [
    "def make_prediction(tree_root, data_point):\n",
    "    node = tree_root\n",
    "    prediction = None\n",
    "    while not node.is_leaf:\n",
    "        if data_point.features[node.feature_idx] >= node.thresh_val:\n",
    "            node = node.right_child\n",
    "        else:\n",
    "            node = node.left_child\n",
    "    \n",
    "    return node.prediction"
   ]
  },
  {
   "cell_type": "markdown",
   "metadata": {},
   "source": [
    "Q3. Implement the function `split_dataset` given an input data set, a `feature_idx` and the `threshold` for the feature. `left_split` will have all values < `threshold` and `right_split` will have all values >= `threshold`."
   ]
  },
  {
   "cell_type": "code",
   "execution_count": 6,
   "metadata": {},
   "outputs": [],
   "source": [
    "def split_dataset(data, feature_idx, threshold):\n",
    "    left_split = []\n",
    "    right_split = []\n",
    "\n",
    "    for data_point in data:\n",
    "        if data_point.features[feature_idx] < threshold:\n",
    "            left_split.append(data_point)\n",
    "        else:\n",
    "            right_split.append(data_point)\n",
    "\n",
    "    return (left_split, right_split)"
   ]
  },
  {
   "cell_type": "markdown",
   "metadata": {},
   "source": [
    "Q4. Implement the function `calc_entropy` to return the entropy of the input dataset."
   ]
  },
  {
   "cell_type": "code",
   "execution_count": 7,
   "metadata": {},
   "outputs": [],
   "source": [
    "def calc_entropy(data):\n",
    "    # init\n",
    "    entropy = 0.0\n",
    "    num_instances = len(data)\n",
    "    \n",
    "    # log(0) = 0 in entropy calculations\n",
    "    if num_instances == 0:\n",
    "        return entropy\n",
    "\n",
    "    # count frequency of classes\n",
    "    num_class_0 = 0\n",
    "    num_class_1 = 0\n",
    "    for data_point in data:\n",
    "        if data_point.label == 0:\n",
    "            num_class_0 = num_class_0 + 1\n",
    "        else:\n",
    "            num_class_1 = num_class_1 + 1\n",
    "\n",
    "    # calculate relative probabilities of classes\n",
    "    p_0 = num_class_0/num_instances\n",
    "    p_1 = num_class_1/num_instances\n",
    "    \n",
    "    # calculate entropy\n",
    "    entropy = -1*(p_0*log2(p_0) if p_0 else 0 + p_1*log2(p_1) if p_1 else 0)\n",
    "    \n",
    "    return entropy"
   ]
  },
  {
   "cell_type": "markdown",
   "metadata": {},
   "source": [
    "Q5. Implement the function `calc_best_threshold` which returns the best information gain and the corresponding threshold value for one feature at `feature_idx`."
   ]
  },
  {
   "cell_type": "code",
   "execution_count": 8,
   "metadata": {},
   "outputs": [],
   "source": [
    "def calc_best_threshold(data, feature_idx):\n",
    "    # sort the data\n",
    "    sorted_data = sorted(data, key=lambda x: x.features[feature_idx])\n",
    "\n",
    "    # calculate impurity of the parent\n",
    "    I_parent = calc_entropy(data)\n",
    "\n",
    "    # generate midpoints\n",
    "    midpoints = []\n",
    "    for i in range(len(sorted_data) - 1):\n",
    "        midpoints.append((sorted_data[i].features[feature_idx] + sorted_data[i + 1].features[feature_idx]) / 2)\n",
    "#     midpoints.insert(0, sorted_data[0].features[feature_idx] - (midpoints[0] - sorted_data[0].features[feature_idx]))\n",
    "#     midpoints.append(sorted_data[len(data) - 1].features[feature_idx] + (sorted_data[len(data) - 1].features[feature_idx] - midpoints[len(midpoints) - 1]))    \n",
    "\n",
    "    # loop through midpoints and calculate entropy dynamically\n",
    "    # the best threshold is also calulated in this loop\n",
    "    best_info_gain = 0.0\n",
    "    best_thresh = None\n",
    "    for i in range(len(midpoints)):\n",
    "        if i == 0:\n",
    "            # initialize class distrubution table\n",
    "            class_distribution = np.zeros((len(midpoints), 2, 2))\n",
    "            for data_point in sorted_data:\n",
    "                if data_point.label == 0 and data_point.features[feature_idx] >= midpoints[0]:\n",
    "                    class_distribution[0, 0, 1] = class_distribution[0, 0, 1] + 1\n",
    "                else:\n",
    "                    class_distribution[0, 0, 0] = class_distribution[0, 0, 0] + 1\n",
    "                if data_point.label == 1 and data_point.features[feature_idx] >= midpoints[0]:\n",
    "                    class_distribution[0, 1, 1] = class_distribution[0, 1, 1] + 1\n",
    "                else:\n",
    "                    class_distribution[0, 1, 0] = class_distribution[0, 1, 0] + 1            \n",
    "        else:\n",
    "            # no need to consider midpoints between features that don't change class labels\n",
    "            if sorted_data[i].label == sorted_data[i + 1].label:\n",
    "                continue\n",
    "             \n",
    "            # dynamically calculate the class distribution for the split at midpoint i\n",
    "            if sorted_data[i].label == 0:\n",
    "                class_distribution[i, 0, 0] = class_distribution[i - 1, 0, 0] + 1\n",
    "                class_distribution[i, 0, 1] = class_distribution[i - 1, 0, 1] - 1\n",
    "                class_distribution[i, 1, 0] = class_distribution[i - 1, 1, 0]\n",
    "                class_distribution[i, 1, 1] = class_distribution[i - 1, 1, 1]\n",
    "            else:\n",
    "                class_distribution[i, 0, 0] = class_distribution[i - 1, 0, 0]\n",
    "                class_distribution[i, 0, 1] = class_distribution[i - 1, 0, 1]\n",
    "                class_distribution[i, 1, 0] = class_distribution[i - 1, 1, 0] + 1\n",
    "                class_distribution[i, 1, 1] = class_distribution[i - 1, 1, 1] - 1\n",
    "        \n",
    "        # calculate the information gain of split at midpoint i\n",
    "        N = len(data)\n",
    "        N_left = class_distribution[i, 0, 0] + class_distribution[i, 1, 0]\n",
    "        N_right = class_distribution[i, 0, 1] + class_distribution[i, 1, 1]\n",
    "        p_0_left = class_distribution[i, 0, 0]/N_left\n",
    "        p_1_left = class_distribution[i, 1, 0]/N_left\n",
    "        p_0_right = class_distribution[i, 0, 1]/N_right\n",
    "        p_1_right = class_distribution[i, 1, 1]/N_right\n",
    "        \n",
    "        # calculate collective impurity of children\n",
    "        I_left = -1*((p_0_left*log2(p_0_left) if p_0_left else 0) + (p_1_left*log2(p_1_left) if p_1_left else 0))\n",
    "        I_right = -1*((p_0_right*log2(p_0_right) if p_0_right else 0) + (p_1_right*log2(p_1_right) if p_1_right else 0))\n",
    "        I_children = (N_left/N)*I_left + (N_right/N)*I_right\n",
    "        \n",
    "        info_gain = I_parent - I_children\n",
    "\n",
    "        if info_gain > best_info_gain:\n",
    "            best_info_gain = info_gain\n",
    "            best_thresh = midpoints[i]\n",
    "#         if best_thresh == None:\n",
    "#             print(data)\n",
    "            \n",
    "    return (best_info_gain, best_thresh)"
   ]
  },
  {
   "cell_type": "markdown",
   "metadata": {},
   "source": [
    "Q6. Implement the function `identify_best_split` which returns the best feature to split on for an input dataset, and also returns the corresponding threshold value."
   ]
  },
  {
   "cell_type": "code",
   "execution_count": 9,
   "metadata": {},
   "outputs": [],
   "source": [
    "def identify_best_split(data):\n",
    "    if len(data) < 2:\n",
    "        return (None, None)\n",
    "    best_feature = None\n",
    "    best_thresh = None\n",
    "\n",
    "    # loop through features and calculate info gain, pick max\n",
    "    best_info_gain = 0.0\n",
    "    for i in range(len(data[0].features)):\n",
    "        info_gain, thresh = calc_best_threshold(data, i)\n",
    "        if info_gain > best_info_gain:\n",
    "            best_thresh = thresh\n",
    "            best_feature = i\n",
    "\n",
    "    return (best_feature, best_thresh)"
   ]
  },
  {
   "cell_type": "markdown",
   "metadata": {},
   "source": [
    "Q7. Implement the function `createLeafNode` which returns a `TreeNode` with `is_leaf=True` and `prediction` set to whichever classification occurs most in the dataset at this node."
   ]
  },
  {
   "cell_type": "code",
   "execution_count": 10,
   "metadata": {},
   "outputs": [],
   "source": [
    "def createLeafNode(data):\n",
    "    node = TreeNode()\n",
    "    node.is_leaf = True\n",
    "    \n",
    "    p_0 = 0\n",
    "    p_1 = 0\n",
    "    for data_point in data:\n",
    "        if data_point.label == 0:\n",
    "            p_0 = p_0 + 1\n",
    "        else:\n",
    "            p_1 = p_1 + 1\n",
    "\n",
    "    if p_0 > p_1:\n",
    "        node.prediction = 0\n",
    "    else:\n",
    "        node.prediction = 1\n",
    "\n",
    "    return node"
   ]
  },
  {
   "cell_type": "markdown",
   "metadata": {},
   "source": [
    "Q8. Implement the `createDecisionTree` function. `max_levels` denotes the maximum height of the tree (for example if `max_levels = 1` then the decision tree will only contain the leaf node at the root. [Hint: this is where the recursion happens.]"
   ]
  },
  {
   "cell_type": "code",
   "execution_count": 14,
   "metadata": {},
   "outputs": [],
   "source": [
    "def createDecisionTree(data, max_levels):\n",
    "    if max_levels == 1:\n",
    "        return createLeafNode(data)\n",
    "    else:\n",
    "        # identify best attribute test condition\n",
    "        best_feature, best_thresh = identify_best_split(data)\n",
    "        \n",
    "        # if best_thresh is None, then all classes are the same?\n",
    "        if best_thresh == None:\n",
    "            return createLeafNode(data)\n",
    "        \n",
    "        # create new node\n",
    "        node = TreeNode()\n",
    "        node.is_leaf = False\n",
    "        node.feature_idx = best_feature\n",
    "        node.thresh_val = best_thresh\n",
    "            \n",
    "        # split data to children\n",
    "        (left_split, right_split) = split_dataset(data, best_feature, best_thresh)\n",
    "        \n",
    "        # create left and right children\n",
    "        node.left_child = createDecisionTree(left_split, max_levels - 1)\n",
    "        node.right_child = createDecisionTree(right_split, max_levels - 1)\n",
    "        \n",
    "        return node"
   ]
  },
  {
   "cell_type": "markdown",
   "metadata": {},
   "source": [
    "Q9. Given a test set, the function `calcAccuracy` returns the accuracy of the classifier. You'll use the `makePrediction` function for this."
   ]
  },
  {
   "cell_type": "code",
   "execution_count": 12,
   "metadata": {},
   "outputs": [],
   "source": [
    "def calcAccuracy(tree_root, data):\n",
    "    correct = 0\n",
    "    \n",
    "    for data_point in data:\n",
    "        if data_point.label == make_prediction(tree_root, data_point):\n",
    "            correct = correct + 1\n",
    "\n",
    "    return correct/len(data)"
   ]
  },
  {
   "cell_type": "markdown",
   "metadata": {},
   "source": [
    "Q10. Keeping the `max_levels` parameter as 10, use 5-fold cross validation to measure the accuracy of the model. Print the accuracy of the model."
   ]
  },
  {
   "cell_type": "code",
   "execution_count": 15,
   "metadata": {
    "scrolled": true
   },
   "outputs": [
    {
     "name": "stdout",
     "output_type": "stream",
     "text": [
      "Training set size: 921\n",
      "Test set size    : 230\n",
      "Time taken: 1.313809871673584\n",
      "The accuracy on the test set is  56.95652173913044\n",
      "Training set size: 921\n",
      "Test set size    : 230\n",
      "Time taken: 1.2401509284973145\n",
      "The accuracy on the test set is  53.91304347826087\n",
      "Training set size: 921\n",
      "Test set size    : 230\n",
      "Time taken: 1.2453010082244873\n",
      "The accuracy on the test set is  50.8695652173913\n",
      "Training set size: 921\n",
      "Test set size    : 230\n",
      "Time taken: 1.2807250022888184\n",
      "The accuracy on the test set is  53.91304347826087\n",
      "Training set size: 920\n",
      "Test set size    : 231\n",
      "Time taken: 1.2609598636627197\n",
      "The accuracy on the test set is  49.35064935064935\n"
     ]
    }
   ],
   "source": [
    "# edit the code here - this is just a sample to get you started\n",
    "import time\n",
    "\n",
    "d = get_data(\"messidor_features.txt\")\n",
    "\n",
    "for i in range(0, 5):\n",
    "    # partition data into train_set and test_set\n",
    "    test_set_begin = floor((i / 5) * len(d))\n",
    "    test_set_end = floor(((i + 1) / 5) * len(d))\n",
    "    test_set = d[test_set_begin : test_set_end]\n",
    "    train_set = d[0 : test_set_begin] + d[test_set_end: len(d)]\n",
    "    \n",
    "    print ('Training set size:', len(train_set))\n",
    "    print ('Test set size    :', len(test_set))\n",
    "\n",
    "    # create the decision tree\n",
    "    start = time.time()\n",
    "    tree = createDecisionTree(train_set, 10)\n",
    "    end = time.time()\n",
    "    print ('Time taken:', end - start)\n",
    "\n",
    "    # calculate the accuracy of the tree\n",
    "    accuracy = calcAccuracy(tree, test_set)\n",
    "    print ('The accuracy on the test set is ', str(accuracy * 100.0))\n",
    "#     tree.printTree()\n",
    "\n",
    "\n"
   ]
  },
  {
   "cell_type": "code",
   "execution_count": null,
   "metadata": {},
   "outputs": [],
   "source": []
  }
 ],
 "metadata": {
  "kernelspec": {
   "display_name": "Python 3",
   "language": "python",
   "name": "python3"
  },
  "language_info": {
   "codemirror_mode": {
    "name": "ipython",
    "version": 3
   },
   "file_extension": ".py",
   "mimetype": "text/x-python",
   "name": "python",
   "nbconvert_exporter": "python",
   "pygments_lexer": "ipython3",
   "version": "3.7.3"
  }
 },
 "nbformat": 4,
 "nbformat_minor": 2
}
